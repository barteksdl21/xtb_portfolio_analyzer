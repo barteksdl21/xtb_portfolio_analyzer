{
 "cells": [
  {
   "cell_type": "code",
   "execution_count": 19,
   "metadata": {},
   "outputs": [],
   "source": [
    "import pandas as pd\n",
    "import json"
   ]
  },
  {
   "cell_type": "code",
   "execution_count": 20,
   "metadata": {},
   "outputs": [
    {
     "name": "stdout",
     "output_type": "stream",
     "text": [
      "   cmd       order  digits  offset      order2    position     symbol comment  \\\n",
      "0    0  1347305290       2       0  1347305267  1347305290  MRNA.US_9           \n",
      "\n",
      "  customComment  commission  ...  closed      timestamp  spread  taxes  \\\n",
      "0          None         0.0  ...   False  1717783726429       0    0.0   \n",
      "\n",
      "       open_time                open_timeString  close_time  close_timeString  \\\n",
      "0  1717684813962  Thu Jun 06 16:40:13 CEST 2024        None              None   \n",
      "\n",
      "   expiration  expirationString  \n",
      "0        None              None  \n",
      "\n",
      "[1 rows x 29 columns]\n"
     ]
    }
   ],
   "source": [
    "with open(\"trading_history.json\") as f:\n",
    "    data = json.load(f)\n",
    "    df = pd.DataFrame(data)"
   ]
  },
  {
   "cell_type": "code",
   "execution_count": 21,
   "metadata": {},
   "outputs": [
    {
     "data": {
      "text/plain": [
       "Index(['cmd', 'order', 'digits', 'offset', 'order2', 'position', 'symbol',\n",
       "       'comment', 'customComment', 'commission', 'storage', 'margin_rate',\n",
       "       'close_price', 'open_price', 'nominalValue', 'profit', 'volume', 'sl',\n",
       "       'tp', 'closed', 'timestamp', 'spread', 'taxes', 'open_time',\n",
       "       'open_timeString', 'close_time', 'close_timeString', 'expiration',\n",
       "       'expirationString'],\n",
       "      dtype='object')"
      ]
     },
     "execution_count": 21,
     "metadata": {},
     "output_type": "execute_result"
    }
   ],
   "source": [
    "df.columns"
   ]
  },
  {
   "cell_type": "code",
   "execution_count": 22,
   "metadata": {},
   "outputs": [],
   "source": [
    "df = df[['symbol', 'nominalValue', 'profit', 'volume']]"
   ]
  },
  {
   "cell_type": "code",
   "execution_count": 23,
   "metadata": {},
   "outputs": [],
   "source": [
    "df = df.groupby(by=\"symbol\").agg({\n",
    "    'nominalValue': 'sum',\n",
    "    'profit': 'sum',\n",
    "    'volume': 'sum'\n",
    "}).reset_index()"
   ]
  },
  {
   "cell_type": "code",
   "execution_count": 25,
   "metadata": {},
   "outputs": [],
   "source": [
    "df[\"currentValue\"] = df[\"nominalValue\"] + df[\"profit\"]\n",
    "df[\"profit_p\"] = df[\"profit\"] / df[\"nominalValue\"]"
   ]
  },
  {
   "cell_type": "code",
   "execution_count": 26,
   "metadata": {},
   "outputs": [
    {
     "data": {
      "text/html": [
       "<div>\n",
       "<style scoped>\n",
       "    .dataframe tbody tr th:only-of-type {\n",
       "        vertical-align: middle;\n",
       "    }\n",
       "\n",
       "    .dataframe tbody tr th {\n",
       "        vertical-align: top;\n",
       "    }\n",
       "\n",
       "    .dataframe thead th {\n",
       "        text-align: right;\n",
       "    }\n",
       "</style>\n",
       "<table border=\"1\" class=\"dataframe\">\n",
       "  <thead>\n",
       "    <tr style=\"text-align: right;\">\n",
       "      <th></th>\n",
       "      <th>symbol</th>\n",
       "      <th>nominalValue</th>\n",
       "      <th>profit</th>\n",
       "      <th>volume</th>\n",
       "      <th>currentValue</th>\n",
       "      <th>profit_p</th>\n",
       "    </tr>\n",
       "  </thead>\n",
       "  <tbody>\n",
       "    <tr>\n",
       "      <th>0</th>\n",
       "      <td>META.US_9</td>\n",
       "      <td>4768.27</td>\n",
       "      <td>162.17</td>\n",
       "      <td>2.5046</td>\n",
       "      <td>4930.44</td>\n",
       "      <td>0.034010</td>\n",
       "    </tr>\n",
       "    <tr>\n",
       "      <th>1</th>\n",
       "      <td>MRNA.US_9</td>\n",
       "      <td>1249.93</td>\n",
       "      <td>-44.94</td>\n",
       "      <td>2.0201</td>\n",
       "      <td>1204.99</td>\n",
       "      <td>-0.035954</td>\n",
       "    </tr>\n",
       "    <tr>\n",
       "      <th>2</th>\n",
       "      <td>NCLH.US_9</td>\n",
       "      <td>1484.54</td>\n",
       "      <td>105.90</td>\n",
       "      <td>22.6541</td>\n",
       "      <td>1590.44</td>\n",
       "      <td>0.071335</td>\n",
       "    </tr>\n",
       "    <tr>\n",
       "      <th>3</th>\n",
       "      <td>PYPL.US_9</td>\n",
       "      <td>1220.91</td>\n",
       "      <td>17.41</td>\n",
       "      <td>4.6000</td>\n",
       "      <td>1238.32</td>\n",
       "      <td>0.014260</td>\n",
       "    </tr>\n",
       "  </tbody>\n",
       "</table>\n",
       "</div>"
      ],
      "text/plain": [
       "      symbol  nominalValue  profit   volume  currentValue  profit_p\n",
       "0  META.US_9       4768.27  162.17   2.5046       4930.44  0.034010\n",
       "1  MRNA.US_9       1249.93  -44.94   2.0201       1204.99 -0.035954\n",
       "2  NCLH.US_9       1484.54  105.90  22.6541       1590.44  0.071335\n",
       "3  PYPL.US_9       1220.91   17.41   4.6000       1238.32  0.014260"
      ]
     },
     "execution_count": 26,
     "metadata": {},
     "output_type": "execute_result"
    }
   ],
   "source": [
    "df"
   ]
  }
 ],
 "metadata": {
  "kernelspec": {
   "display_name": "Python 3",
   "language": "python",
   "name": "python3"
  },
  "language_info": {
   "codemirror_mode": {
    "name": "ipython",
    "version": 3
   },
   "file_extension": ".py",
   "mimetype": "text/x-python",
   "name": "python",
   "nbconvert_exporter": "python",
   "pygments_lexer": "ipython3",
   "version": "3.11.0"
  }
 },
 "nbformat": 4,
 "nbformat_minor": 2
}
